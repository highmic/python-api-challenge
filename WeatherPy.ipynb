{
 "cells": [
  {
   "cell_type": "markdown",
   "metadata": {},
   "source": [
    "# WeatherPy\n",
    "----\n",
    "\n",
    "#### Note\n",
    "* Instructions have been included for each segment. You do not have to follow them exactly, but they are included to help you think through the steps."
   ]
  },
  {
   "cell_type": "code",
   "execution_count": 2,
   "metadata": {
    "scrolled": true
   },
   "outputs": [],
   "source": [
    "# Dependencies and Setup\n",
    "import matplotlib.pyplot as plt\n",
    "import pandas as pd\n",
    "import numpy as np\n",
    "import requests\n",
    "import time\n",
    "import os\n",
    "from scipy.stats import linregress\n",
    "\n",
    "# Import API key\n",
    "from api_keys import weather_api_key\n",
    "\n",
    "# Incorporated citipy to determine city based on latitude and longitude\n",
    "from citipy import citipy\n",
    "\n",
    "# Output File (CSV)\n",
    "output_data_file = \"output_data/cities.csv\"\n",
    "\n",
    "# Range of latitudes and longitudes\n",
    "lat_range = (-90, 90)\n",
    "lng_range = (-180, 180)"
   ]
  },
  {
   "cell_type": "code",
   "execution_count": 3,
   "metadata": {},
   "outputs": [],
   "source": [
    "#High level inferences from the analysis:\n",
    "  #Latitude and Temperatue:\n",
    "    #In the Northern Hemisphere: There is a negative correlation between latitude and temperature with higher temp \n",
    "      #closer to the equator which decreases as you move up away from the equator\n",
    "    #In the Southern Hemisphere: There is positive correlation between the 2 variables with temp increasing \n",
    "        #as you move closer to the equator\n",
    "  #Latitude and the other variables including humidity, cloudiness and wind speed:\n",
    "     #There is little or no correlation between all the other variables and latitude in both hemispheres \n",
    "     #Latitude effect on the other variables is statistically insignificant with all having a R-Square of less than 1%\n"
   ]
  },
  {
   "cell_type": "markdown",
   "metadata": {},
   "source": [
    "## Generate Cities List"
   ]
  },
  {
   "cell_type": "code",
   "execution_count": 4,
   "metadata": {},
   "outputs": [
    {
     "data": {
      "text/plain": [
       "605"
      ]
     },
     "execution_count": 4,
     "metadata": {},
     "output_type": "execute_result"
    }
   ],
   "source": [
    "# List for holding lat_lngs and cities\n",
    "lat_lngs = []\n",
    "cities = []\n",
    "# countries = []\n",
    "# Create a set of random lat and lng combinations\n",
    "lats = np.random.uniform(lat_range[0], lat_range[1], size=1500)\n",
    "lngs = np.random.uniform(lng_range[0], lng_range[1], size=1500)\n",
    "lat_lngs = zip(lats, lngs)\n",
    "\n",
    "# Identify nearest city for each lat, lng combination\n",
    "for lat_lng in lat_lngs:\n",
    "    city = citipy.nearest_city(lat_lng[0], lat_lng[1]).city_name\n",
    "    \n",
    "    # If the city is unique, then add it to a our cities list\n",
    "    if city not in cities:\n",
    "        cities.append(city)\n",
    "\n",
    "# Print the city count to confirm sufficient count\n",
    "len(cities)\n",
    "# len(countries)"
   ]
  },
  {
   "cell_type": "markdown",
   "metadata": {},
   "source": [
    "### Perform API Calls\n",
    "* Perform a weather check on each city using a series of successive API calls.\n",
    "* Include a print log of each city as it'sbeing processed (with the city number and city name).\n"
   ]
  },
  {
   "cell_type": "code",
   "execution_count": 5,
   "metadata": {},
   "outputs": [],
   "source": [
    "#Define base url\n",
    "url = \"http://api.openweathermap.org/data/2.5/weather?\"\n",
    "units = \"imperial\"\n",
    "\n",
    "# define query url \n",
    "query_url = f\"{url}appid={weather_api_key}&units={units}&q=\""
   ]
  },
  {
   "cell_type": "code",
   "execution_count": 7,
   "metadata": {},
   "outputs": [
    {
     "name": "stdout",
     "output_type": "stream",
     "text": [
      "Processing Record 1 of Set 1 | Airai\n",
      "Processing Record 2 of Set 1 | Tasiilaq\n",
      "Processing Record 3 of Set 1 | Bredasdorp\n",
      "Processing Record 4 of Set 1 | Westport\n",
      "City not found. Skipping...\n",
      "Processing Record 5 of Set 1 | Mossamedes\n",
      "Processing Record 6 of Set 1 | Chui\n",
      "Processing Record 7 of Set 1 | Porto\n",
      "Processing Record 8 of Set 1 | Talnakh\n",
      "Processing Record 9 of Set 1 | Cururupu\n",
      "Processing Record 10 of Set 1 | Domoni\n",
      "Processing Record 11 of Set 1 | Lebu\n",
      "Processing Record 12 of Set 1 | Port\n",
      "Processing Record 13 of Set 1 | Nikolskoye\n",
      "City not found. Skipping...\n",
      "Processing Record 14 of Set 1 | Carnarvon\n",
      "Processing Record 15 of Set 1 | Skerries\n",
      "Processing Record 16 of Set 1 | St. George's\n",
      "Processing Record 17 of Set 1 | Lompoc\n",
      "Processing Record 18 of Set 1 | Mugur-Aksy\n",
      "Processing Record 19 of Set 1 | Kapaa\n",
      "City not found. Skipping...\n",
      "Processing Record 20 of Set 1 | Bonavista\n",
      "Processing Record 21 of Set 1 | Hithadhoo\n",
      "Processing Record 22 of Set 1 | Salalah\n",
      "Processing Record 23 of Set 1 | El Puerto de Santa María\n",
      "City not found. Skipping...\n",
      "Processing Record 24 of Set 1 | Marratxí\n",
      "Processing Record 25 of Set 1 | Jamestown\n",
      "Processing Record 26 of Set 1 | Banyo\n",
      "Processing Record 27 of Set 1 | Isla\n",
      "Processing Record 28 of Set 1 | Tiksi\n",
      "Processing Record 29 of Set 1 | Port\n",
      "Processing Record 30 of Set 1 | Rikitea\n",
      "Processing Record 31 of Set 1 | Lagoa\n",
      "Processing Record 32 of Set 1 | Hesla\n",
      "Processing Record 33 of Set 1 | Ekhabi\n",
      "City not found. Skipping...\n",
      "Processing Record 34 of Set 1 | Kiunga\n",
      "Processing Record 35 of Set 1 | Arraial\n",
      "Processing Record 36 of Set 1 | Atuona\n",
      "Processing Record 37 of Set 1 | Menongue\n",
      "Processing Record 38 of Set 1 | Tayu\n",
      "Processing Record 39 of Set 1 | Arlit\n",
      "Processing Record 40 of Set 1 | Cherskiy\n",
      "Processing Record 41 of Set 1 | Avera\n",
      "Processing Record 42 of Set 1 | Parakou\n",
      "Processing Record 43 of Set 1 | Burns\n",
      "Processing Record 44 of Set 1 | Port\n",
      "City not found. Skipping...\n",
      "Processing Record 45 of Set 1 | Saint-Pierre\n",
      "Processing Record 46 of Set 1 | Vaini\n",
      "Processing Record 47 of Set 1 | Tuktoyaktuk\n",
      "Processing Record 48 of Set 1 | Avarua\n",
      "Processing Record 49 of Set 1 | Itarema\n",
      "Processing Record 0 of Set 2 | Mahon\n",
      "City not found. Skipping...\n",
      "Processing Record 1 of Set 2 | Hong Kong\n",
      "Processing Record 2 of Set 2 | Portland\n",
      "Processing Record 3 of Set 2 | Caravelas\n",
      "Processing Record 4 of Set 2 | Albany\n",
      "Processing Record 5 of Set 2 | Makakilo\n",
      "Processing Record 6 of Set 2 | Kédougou\n",
      "Processing Record 7 of Set 2 | Pachino\n",
      "Processing Record 8 of Set 2 | Bluff\n",
      "Processing Record 9 of Set 2 | Blackwater\n",
      "Processing Record 10 of Set 2 | Anadyr\n",
      "Processing Record 11 of Set 2 | Mataura\n",
      "Processing Record 12 of Set 2 | Castro\n",
      "City not found. Skipping...\n",
      "Processing Record 13 of Set 2 | Yellowknife\n",
      "Processing Record 14 of Set 2 | Lerwick\n",
      "Processing Record 15 of Set 2 | Esperance\n",
      "Processing Record 16 of Set 2 | Grand\n",
      "Processing Record 17 of Set 2 | Barrow\n",
      "Processing Record 18 of Set 2 | Mīrābād\n",
      "City not found. Skipping...\n",
      "Processing Record 19 of Set 2 | Busselton\n",
      "Processing Record 20 of Set 2 | Ilulissat\n",
      "Processing Record 21 of Set 2 | Padang\n",
      "Processing Record 22 of Set 2 | Zhigansk\n",
      "Processing Record 23 of Set 2 | Leh\n",
      "Processing Record 24 of Set 2 | Cape\n",
      "Processing Record 25 of Set 2 | Sur\n",
      "Processing Record 26 of Set 2 | Brownfield\n",
      "Processing Record 27 of Set 2 | Srīvardhan\n",
      "Processing Record 28 of Set 2 | Bambous\n",
      "Processing Record 29 of Set 2 | Wilmington\n",
      "Processing Record 30 of Set 2 | Torbay\n",
      "Processing Record 31 of Set 2 | Butaritari\n",
      "Processing Record 32 of Set 2 | Tautira\n",
      "Processing Record 33 of Set 2 | Vardø\n",
      "City not found. Skipping...\n",
      "City not found. Skipping...\n",
      "Processing Record 34 of Set 2 | Zyryanka\n",
      "City not found. Skipping...\n",
      "Processing Record 35 of Set 2 | Kieta\n",
      "City not found. Skipping...\n",
      "City not found. Skipping...\n",
      "Processing Record 36 of Set 2 | Karpinsk\n",
      "Processing Record 37 of Set 2 | Rio\n",
      "Processing Record 38 of Set 2 | San\n",
      "Processing Record 39 of Set 2 | Hermanus\n",
      "Processing Record 40 of Set 2 | Dongning\n",
      "Processing Record 41 of Set 2 | Mar\n",
      "Processing Record 42 of Set 2 | Hobart\n",
      "Processing Record 43 of Set 2 | Ust-Maya\n",
      "Processing Record 44 of Set 2 | Constitución\n",
      "Processing Record 45 of Set 2 | Bathsheba\n",
      "Processing Record 46 of Set 2 | Houma\n",
      "City not found. Skipping...\n",
      "Processing Record 47 of Set 2 | Rosarito\n",
      "City not found. Skipping...\n",
      "Processing Record 48 of Set 2 | Saint Paul Harbor\n",
      "Processing Record 49 of Set 2 | Manaus\n",
      "Processing Record 0 of Set 3 | Lukiv\n",
      "Processing Record 1 of Set 3 | Saint-Joseph\n",
      "Processing Record 2 of Set 3 | Port\n",
      "Processing Record 3 of Set 3 | Vega\n",
      "Processing Record 4 of Set 3 | Castro\n",
      "Processing Record 5 of Set 3 | Kaeo\n",
      "Processing Record 6 of Set 3 | Bowen\n",
      "City not found. Skipping...\n",
      "Processing Record 7 of Set 3 | Severo-Kuril'sk\n",
      "Processing Record 8 of Set 3 | Kahului\n",
      "Processing Record 9 of Set 3 | Brae\n",
      "City not found. Skipping...\n",
      "Processing Record 10 of Set 3 | Sao\n",
      "Processing Record 11 of Set 3 | Bargi\n",
      "Processing Record 12 of Set 3 | Antigonish\n",
      "City not found. Skipping...\n",
      "Processing Record 13 of Set 3 | Bethel\n",
      "Processing Record 14 of Set 3 | Pitimbu\n",
      "Processing Record 15 of Set 3 | Kendari\n",
      "Processing Record 16 of Set 3 | Ushuaia\n",
      "Processing Record 17 of Set 3 | Cece\n",
      "Processing Record 18 of Set 3 | Aykhal\n",
      "Processing Record 19 of Set 3 | Askarovo\n",
      "Processing Record 20 of Set 3 | Norsup\n",
      "Processing Record 21 of Set 3 | Nantucket\n",
      "Processing Record 22 of Set 3 | Khokhlovo\n",
      "Processing Record 23 of Set 3 | San\n",
      "Processing Record 24 of Set 3 | San\n",
      "Processing Record 25 of Set 3 | Sitka\n",
      "City not found. Skipping...\n",
      "Processing Record 26 of Set 3 | Songea\n",
      "Processing Record 27 of Set 3 | Pisco\n",
      "City not found. Skipping...\n",
      "Processing Record 28 of Set 3 | Egvekinot\n",
      "Processing Record 29 of Set 3 | Faya\n",
      "Processing Record 30 of Set 3 | Krasnosel'kup\n",
      "Processing Record 31 of Set 3 | Yurimaguas\n",
      "Processing Record 32 of Set 3 | Khani\n",
      "Processing Record 33 of Set 3 | Dikson\n",
      "Processing Record 34 of Set 3 | Norman\n",
      "Processing Record 35 of Set 3 | Saint-Philippe\n",
      "Processing Record 36 of Set 3 | Lüderitz\n",
      "Processing Record 37 of Set 3 | East\n",
      "Processing Record 38 of Set 3 | North\n",
      "Processing Record 39 of Set 3 | Punta\n",
      "Processing Record 40 of Set 3 | Fort\n",
      "Processing Record 41 of Set 3 | San\n",
      "Processing Record 42 of Set 3 | Geraldton\n",
      "Processing Record 43 of Set 3 | Chapada\n",
      "Processing Record 44 of Set 3 | Vila\n",
      "Processing Record 45 of Set 3 | Cidreira\n",
      "Processing Record 46 of Set 3 | Kruisfontein\n",
      "City not found. Skipping...\n",
      "Processing Record 47 of Set 3 | Adrar\n",
      "Processing Record 48 of Set 3 | Chokurdakh\n",
      "Processing Record 49 of Set 3 | Tommot\n",
      "Processing Record 0 of Set 4 | Thompson\n",
      "Processing Record 1 of Set 4 | Añisoc\n",
      "Processing Record 2 of Set 4 | El Puerto de Santa María\n",
      "Processing Record 3 of Set 4 | Naze\n",
      "Processing Record 4 of Set 4 | Korla\n",
      "Processing Record 5 of Set 4 | San\n",
      "Processing Record 6 of Set 4 | Meulaboh\n",
      "Processing Record 7 of Set 4 | Telimele\n",
      "Processing Record 8 of Set 4 | Praia\n",
      "Processing Record 9 of Set 4 | Kulashi\n",
      "City not found. Skipping...\n",
      "Processing Record 10 of Set 4 | Katsuura\n",
      "Processing Record 11 of Set 4 | San Miguel de Tucumán\n",
      "Processing Record 12 of Set 4 | Mandiana\n",
      "Processing Record 13 of Set 4 | Saskylakh\n",
      "Processing Record 14 of Set 4 | Fukuechō\n",
      "City not found. Skipping...\n",
      "Processing Record 15 of Set 4 | Auki\n",
      "Processing Record 16 of Set 4 | Kavieng\n",
      "Processing Record 17 of Set 4 | Gravdal\n",
      "Processing Record 18 of Set 4 | Nouadhibou\n",
      "Processing Record 19 of Set 4 | Hilo\n",
      "Processing Record 20 of Set 4 | Qaanaaq\n",
      "City not found. Skipping...\n",
      "Processing Record 21 of Set 4 | Longyearbyen\n",
      "Processing Record 22 of Set 4 | Ponta\n",
      "Processing Record 23 of Set 4 | Quelimane\n",
      "Processing Record 24 of Set 4 | Dingle\n",
      "Processing Record 25 of Set 4 | Sittwe\n",
      "Processing Record 26 of Set 4 | Adré\n",
      "Processing Record 27 of Set 4 | Khatanga\n",
      "Processing Record 28 of Set 4 | Sakakah\n",
      "Processing Record 29 of Set 4 | Pergamino\n",
      "Processing Record 30 of Set 4 | Lavrentiya\n",
      "Processing Record 31 of Set 4 | George Town\n",
      "Processing Record 32 of Set 4 | Touros\n",
      "Processing Record 33 of Set 4 | Taoudenni\n",
      "Processing Record 34 of Set 4 | Codrington\n",
      "Processing Record 35 of Set 4 | Buraidah\n",
      "Processing Record 36 of Set 4 | Sabha\n",
      "Processing Record 37 of Set 4 | Igrim\n",
      "Processing Record 38 of Set 4 | Husavik\n",
      "Processing Record 39 of Set 4 | Nuuk\n"
     ]
    },
    {
     "name": "stdout",
     "output_type": "stream",
     "text": [
      "Processing Record 40 of Set 4 | Vila\n",
      "Processing Record 41 of Set 4 | Kaitangata\n",
      "Processing Record 42 of Set 4 | El Puerto de Santa María\n",
      "City not found. Skipping...\n",
      "Processing Record 43 of Set 4 | Eyl\n",
      "Processing Record 44 of Set 4 | Pevek\n",
      "Processing Record 45 of Set 4 | Ginir\n",
      "Processing Record 46 of Set 4 | Alta\n",
      "Processing Record 47 of Set 4 | Fallon\n",
      "Processing Record 48 of Set 4 | Upington\n",
      "Processing Record 49 of Set 4 | Waitati\n",
      "Processing Record 0 of Set 5 | Cascais\n",
      "Processing Record 1 of Set 5 | Alcañiz\n",
      "Processing Record 2 of Set 5 | Mahébourg\n",
      "Processing Record 3 of Set 5 | Tarko-Sale\n",
      "Processing Record 4 of Set 5 | Marzuq\n",
      "Processing Record 5 of Set 5 | Mount\n",
      "Processing Record 6 of Set 5 | Saldanha\n",
      "Processing Record 7 of Set 5 | Tigil'\n",
      "Processing Record 8 of Set 5 | Nadvoitsy\n",
      "Processing Record 9 of Set 5 | Abhā\n",
      "Processing Record 10 of Set 5 | Rio\n",
      "Processing Record 11 of Set 5 | Isangel\n",
      "Processing Record 12 of Set 5 | Andenes\n",
      "Processing Record 13 of Set 5 | Christiana\n",
      "Processing Record 14 of Set 5 | Palmas\n",
      "Processing Record 15 of Set 5 | Tuatapere\n",
      "Processing Record 16 of Set 5 | Zheleznodorozhnyy\n",
      "Processing Record 17 of Set 5 | Laguna\n",
      "Processing Record 18 of Set 5 | Acajutla\n",
      "Processing Record 19 of Set 5 | Glushkovo\n",
      "Processing Record 20 of Set 5 | Oranjestad\n",
      "Processing Record 21 of Set 5 | Hualmay\n",
      "Processing Record 22 of Set 5 | Mehamn\n",
      "Processing Record 23 of Set 5 | Bardsīr\n",
      "Processing Record 24 of Set 5 | Tiarei\n",
      "Processing Record 25 of Set 5 | Meybod\n",
      "City not found. Skipping...\n",
      "Processing Record 26 of Set 5 | Baghdad\n",
      "Processing Record 27 of Set 5 | Waddān\n",
      "Processing Record 28 of Set 5 | Iqaluit\n",
      "Processing Record 29 of Set 5 | Kapit\n",
      "Processing Record 30 of Set 5 | Roscommon\n",
      "Processing Record 31 of Set 5 | Somerset\n",
      "Processing Record 32 of Set 5 | Port\n",
      "City not found. Skipping...\n",
      "Processing Record 33 of Set 5 | Sisimiut\n",
      "Processing Record 34 of Set 5 | Spas-Demensk\n",
      "Processing Record 35 of Set 5 | Vysokogornyy\n",
      "Processing Record 36 of Set 5 | Paka\n",
      "Processing Record 37 of Set 5 | Lethem\n",
      "Processing Record 38 of Set 5 | Kavaratti\n",
      "Processing Record 39 of Set 5 | Chapais\n",
      "Processing Record 40 of Set 5 | Samarai\n",
      "Processing Record 41 of Set 5 | New\n",
      "Processing Record 42 of Set 5 | Safi\n",
      "Processing Record 43 of Set 5 | Makkah al Mukarramah\n",
      "Processing Record 44 of Set 5 | Vozdvizhenka\n",
      "City not found. Skipping...\n",
      "Processing Record 45 of Set 5 | Luxeuil-les-Bains\n",
      "Processing Record 46 of Set 5 | Yenangyaung\n",
      "Processing Record 47 of Set 5 | Provideniya\n",
      "Processing Record 48 of Set 5 | Alice\n",
      "Processing Record 49 of Set 5 | Shakiso\n",
      "Processing Record 0 of Set 6 | West\n",
      "City not found. Skipping...\n",
      "Processing Record 1 of Set 6 | Kilinochchi\n",
      "Processing Record 2 of Set 6 | Cabatuan\n",
      "Processing Record 3 of Set 6 | Ribeira\n",
      "Processing Record 4 of Set 6 | Spornoye\n",
      "City not found. Skipping...\n",
      "Processing Record 5 of Set 6 | Linares\n",
      "Processing Record 6 of Set 6 | Baykit\n",
      "Processing Record 7 of Set 6 | Saint-François\n",
      "Processing Record 8 of Set 6 | Salem\n",
      "Processing Record 9 of Set 6 | Kandava\n",
      "Processing Record 10 of Set 6 | Mys\n",
      "Processing Record 11 of Set 6 | Vestmannaeyjar\n",
      "Processing Record 12 of Set 6 | Bushehr\n",
      "City not found. Skipping...\n",
      "Processing Record 13 of Set 6 | Deputatsky\n",
      "Processing Record 14 of Set 6 | Atkarsk\n",
      "Processing Record 15 of Set 6 | Hirara\n",
      "Processing Record 16 of Set 6 | Limpapa\n",
      "Processing Record 17 of Set 6 | Homer\n",
      "City not found. Skipping...\n",
      "Processing Record 18 of Set 6 | Upernavik\n",
      "Processing Record 19 of Set 6 | Tromsø\n",
      "Processing Record 20 of Set 6 | Ilhabela\n",
      "Processing Record 21 of Set 6 | Tara\n",
      "Processing Record 22 of Set 6 | Lata\n",
      "Processing Record 23 of Set 6 | Hasaki\n",
      "Processing Record 24 of Set 6 | Mogadishu\n",
      "Processing Record 25 of Set 6 | Paamiut\n",
      "Processing Record 26 of Set 6 | Okakarara\n",
      "Processing Record 27 of Set 6 | Chernyshevskiy\n",
      "Processing Record 28 of Set 6 | Punta\n",
      "Processing Record 29 of Set 6 | Wanning\n",
      "Processing Record 30 of Set 6 | Goderich\n",
      "Processing Record 31 of Set 6 | Santiago\n",
      "Processing Record 32 of Set 6 | Marystown\n",
      "Processing Record 33 of Set 6 | Wajima\n",
      "Processing Record 34 of Set 6 | Almeirim\n",
      "City not found. Skipping...\n",
      "Processing Record 35 of Set 6 | Xixiang\n",
      "Processing Record 36 of Set 6 | Bondo\n",
      "Processing Record 37 of Set 6 | Tres\n",
      "Processing Record 38 of Set 6 | Howard\n",
      "City not found. Skipping...\n",
      "Processing Record 39 of Set 6 | Arraias\n",
      "Processing Record 40 of Set 6 | Ixtapa\n",
      "Processing Record 41 of Set 6 | Klyuchi\n",
      "Processing Record 42 of Set 6 | Clarence\n",
      "Processing Record 43 of Set 6 | Kimbe\n",
      "Processing Record 44 of Set 6 | Dhidhdhoo\n",
      "Processing Record 45 of Set 6 | Vestmanna\n",
      "Processing Record 46 of Set 6 | Porbandar\n",
      "Processing Record 47 of Set 6 | Hervey\n",
      "Processing Record 48 of Set 6 | Nuevo\n",
      "Processing Record 49 of Set 6 | Gualaquiza\n",
      "Processing Record 0 of Set 7 | Fort-Shevchenko\n",
      "Processing Record 1 of Set 7 | Nemuro\n",
      "City not found. Skipping...\n",
      "Processing Record 2 of Set 7 | Arrondissement du Havre\n",
      "City not found. Skipping...\n",
      "Processing Record 3 of Set 7 | El Puerto de Santa María\n",
      "Processing Record 4 of Set 7 | Yangi Marg`ilon\n",
      "City not found. Skipping...\n",
      "Processing Record 5 of Set 7 | Leningradskiy\n",
      "Processing Record 6 of Set 7 | Hagenow\n",
      "Processing Record 7 of Set 7 | Shubarshi\n",
      "Processing Record 8 of Set 7 | Klaksvík\n",
      "Processing Record 9 of Set 7 | Itoman\n",
      "Processing Record 10 of Set 7 | Labuhan\n",
      "Processing Record 11 of Set 7 | Zhuhai\n",
      "Processing Record 12 of Set 7 | Luchegorsk\n",
      "Processing Record 13 of Set 7 | Uva\n",
      "Processing Record 14 of Set 7 | Straumen\n",
      "Processing Record 15 of Set 7 | Ruidoso\n",
      "Processing Record 16 of Set 7 | Black\n",
      "Processing Record 17 of Set 7 | Martapura\n",
      "Processing Record 18 of Set 7 | Grand\n",
      "Processing Record 19 of Set 7 | Colares\n",
      "Processing Record 20 of Set 7 | Malanje\n",
      "Processing Record 21 of Set 7 | Laas\n",
      "City not found. Skipping...\n",
      "Processing Record 22 of Set 7 | Dubbo\n",
      "Processing Record 23 of Set 7 | Atar\n",
      "City not found. Skipping...\n",
      "Processing Record 24 of Set 7 | Soddy-Daisy\n",
      "Processing Record 25 of Set 7 | Margate\n",
      "Processing Record 26 of Set 7 | Narsaq\n",
      "City not found. Skipping...\n",
      "Processing Record 27 of Set 7 | Chul'man\n",
      "Processing Record 28 of Set 7 | Fengrun\n",
      "City not found. Skipping...\n",
      "Processing Record 29 of Set 7 | Luena\n",
      "Processing Record 30 of Set 7 | Ahipara\n",
      "Processing Record 31 of Set 7 | Troitsko-Pechorsk\n",
      "Processing Record 32 of Set 7 | Marawi\n",
      "Processing Record 33 of Set 7 | Chadiza\n",
      "Processing Record 34 of Set 7 | Fontem\n",
      "City not found. Skipping...\n",
      "Processing Record 35 of Set 7 | Hinton\n",
      "Processing Record 36 of Set 7 | Fortuna\n",
      "Processing Record 37 of Set 7 | Issia\n",
      "Processing Record 38 of Set 7 | Kodino\n",
      "Processing Record 39 of Set 7 | Ţaga\n",
      "Processing Record 40 of Set 7 | Stokmarknes\n",
      "Processing Record 41 of Set 7 | Haines\n",
      "Processing Record 42 of Set 7 | Orange\n",
      "Processing Record 43 of Set 7 | Griffith\n",
      "Processing Record 44 of Set 7 | Oodweyne\n",
      "Processing Record 45 of Set 7 | Port\n",
      "Processing Record 46 of Set 7 | Sumbe\n",
      "Processing Record 47 of Set 7 | Bubaque\n",
      "Processing Record 48 of Set 7 | Yeppoon\n",
      "Processing Record 49 of Set 7 | Olafsvik\n",
      "Processing Record 0 of Set 8 | Almeria\n",
      "Processing Record 1 of Set 8 | Nanortalik\n",
      "Processing Record 2 of Set 8 | Valentin\n",
      "Processing Record 3 of Set 8 | Oistins\n",
      "Processing Record 4 of Set 8 | Mahajanga\n",
      "Processing Record 5 of Set 8 | Sao\n",
      "Processing Record 6 of Set 8 | Gorontalo\n",
      "Processing Record 7 of Set 8 | Manono\n",
      "Processing Record 8 of Set 8 | Broome\n",
      "Processing Record 9 of Set 8 | Pacific\n",
      "Processing Record 10 of Set 8 | Flinders\n",
      "Processing Record 11 of Set 8 | Caledon\n",
      "Processing Record 12 of Set 8 | Fairbanks\n",
      "Processing Record 13 of Set 8 | Lorengau\n",
      "Processing Record 14 of Set 8 | Santo\n",
      "Processing Record 15 of Set 8 | Namatanai\n",
      "Processing Record 16 of Set 8 | Katete\n",
      "Processing Record 17 of Set 8 | Kabo\n",
      "Processing Record 18 of Set 8 | Dunedin\n",
      "Processing Record 19 of Set 8 | Flin\n",
      "Processing Record 20 of Set 8 | Takoradze\n",
      "Processing Record 21 of Set 8 | Ilebo\n",
      "Processing Record 22 of Set 8 | Kapuskasing\n",
      "Processing Record 23 of Set 8 | Shimoda\n",
      "Processing Record 24 of Set 8 | Saint-Augustin\n",
      "Processing Record 25 of Set 8 | Lockhart\n",
      "Processing Record 26 of Set 8 | Rudnogorsk\n",
      "Processing Record 27 of Set 8 | Chosica\n",
      "Processing Record 28 of Set 8 | Nome\n",
      "Processing Record 29 of Set 8 | Bombo\n",
      "Processing Record 30 of Set 8 | San\n"
     ]
    },
    {
     "name": "stdout",
     "output_type": "stream",
     "text": [
      "Processing Record 31 of Set 8 | Beringovskiy\n",
      "Processing Record 32 of Set 8 | Imbituba\n",
      "Processing Record 33 of Set 8 | Mayumba\n",
      "Processing Record 34 of Set 8 | Aklavik\n",
      "Processing Record 35 of Set 8 | Kothi\n",
      "Processing Record 36 of Set 8 | Codajás\n",
      "Processing Record 37 of Set 8 | Nagato\n",
      "Processing Record 38 of Set 8 | Vera\n",
      "Processing Record 39 of Set 8 | Matveyevka\n",
      "Processing Record 40 of Set 8 | Kenai\n",
      "Processing Record 41 of Set 8 | Kalmunai\n",
      "Processing Record 42 of Set 8 | Koygorodok\n",
      "Processing Record 43 of Set 8 | Palmares\n",
      "Processing Record 44 of Set 8 | Kamenka\n",
      "Processing Record 45 of Set 8 | Srednekolymsk\n",
      "Processing Record 46 of Set 8 | Aksarka\n",
      "Processing Record 47 of Set 8 | Lovozero\n",
      "Processing Record 48 of Set 8 | Charter Township of Clinton\n",
      "Processing Record 49 of Set 8 | Havre-St-Pierre\n",
      "Processing Record 0 of Set 9 | Cleethorpes\n",
      "Processing Record 1 of Set 9 | Hanmer\n",
      "Processing Record 2 of Set 9 | Carndonagh\n",
      "Processing Record 3 of Set 9 | Beyneu\n",
      "City not found. Skipping...\n",
      "Processing Record 4 of Set 9 | Souillac\n",
      "Processing Record 5 of Set 9 | Megion\n",
      "Processing Record 6 of Set 9 | Cayenne\n",
      "Processing Record 7 of Set 9 | Mahon\n",
      "Processing Record 8 of Set 9 | Bar\n",
      "Processing Record 9 of Set 9 | Manado\n",
      "Processing Record 10 of Set 9 | Faanui\n",
      "Processing Record 11 of Set 9 | Kota\n",
      "Processing Record 12 of Set 9 | Jasper\n",
      "Processing Record 13 of Set 9 | Mezen'\n",
      "Processing Record 14 of Set 9 | Reconquista\n",
      "Processing Record 15 of Set 9 | Sainte-Rose\n",
      "City not found. Skipping...\n",
      "Processing Record 16 of Set 9 | Labytnangi\n",
      "Processing Record 17 of Set 9 | Mari-Turek\n",
      "Processing Record 18 of Set 9 | Bengkulu\n",
      "Processing Record 19 of Set 9 | Inhambane\n",
      "Processing Record 20 of Set 9 | Murray\n",
      "Processing Record 21 of Set 9 | Lalibela\n",
      "City not found. Skipping...\n",
      "Processing Record 22 of Set 9 | Cabedelo\n",
      "Processing Record 23 of Set 9 | Însurăţei\n",
      "City not found. Skipping...\n",
      "Processing Record 24 of Set 9 | Dawei\n",
      "Processing Record 25 of Set 9 | Kattivākkam\n",
      "Processing Record 26 of Set 9 | Tétouan\n",
      "Processing Record 27 of Set 9 | Nālūt\n",
      "Processing Record 28 of Set 9 | Inta\n",
      "Processing Record 29 of Set 9 | Forécariah\n",
      "Processing Record 30 of Set 9 | Garoowe\n",
      "Processing Record 31 of Set 9 | Wakkanai\n",
      "Processing Record 32 of Set 9 | Mount\n",
      "Processing Record 33 of Set 9 | Khovd\n",
      "Processing Record 34 of Set 9 | Boyabat\n",
      "Processing Record 35 of Set 9 | Kharitonovo\n",
      "Processing Record 36 of Set 9 | Örnsköldsvik\n",
      "Processing Record 37 of Set 9 | Balikpapan\n",
      "Processing Record 38 of Set 9 | Sandovo\n",
      "Processing Record 39 of Set 9 | Vao\n",
      "Processing Record 40 of Set 9 | Jiwani\n",
      "Processing Record 41 of Set 9 | Beloha\n",
      "Processing Record 42 of Set 9 | Harūr\n",
      "Processing Record 43 of Set 9 | Sungai Penuh\n",
      "Processing Record 44 of Set 9 | Buarcos\n",
      "City not found. Skipping...\n",
      "Processing Record 45 of Set 9 | Trelew\n",
      "City not found. Skipping...\n",
      "Processing Record 46 of Set 9 | Conde\n",
      "Processing Record 47 of Set 9 | Asău\n",
      "Processing Record 48 of Set 9 | Mount Abu\n",
      "Processing Record 49 of Set 9 | Sulangan\n",
      "Processing Record 0 of Set 10 | Port\n",
      "Processing Record 1 of Set 10 | Ayan\n",
      "Processing Record 2 of Set 10 | Wonthaggi\n",
      "Processing Record 3 of Set 10 | Royan\n",
      "Processing Record 4 of Set 10 | Pravda\n",
      "Processing Record 5 of Set 10 | Diourbel\n",
      "Processing Record 6 of Set 10 | Kangaatsiaq\n",
      "Processing Record 7 of Set 10 | Agadez\n",
      "Processing Record 8 of Set 10 | Kaka\n",
      "Processing Record 9 of Set 10 | Manta\n",
      "Processing Record 10 of Set 10 | Okhotsk\n",
      "Processing Record 11 of Set 10 | Juneau\n",
      "Processing Record 12 of Set 10 | Qinhuangdao\n",
      "Processing Record 13 of Set 10 | Jasdan\n",
      "Processing Record 14 of Set 10 | Sailāna\n",
      "Processing Record 15 of Set 10 | Rivadavia\n",
      "Processing Record 16 of Set 10 | Comodoro\n",
      "Processing Record 17 of Set 10 | Bandarbeyla\n",
      "Processing Record 18 of Set 10 | Nioki\n",
      "Processing Record 19 of Set 10 | Harper\n",
      "City not found. Skipping...\n",
      "Processing Record 20 of Set 10 | Phan\n",
      "Processing Record 21 of Set 10 | Shaunavon\n",
      "Processing Record 22 of Set 10 | Omsukchan\n",
      "City not found. Skipping...\n",
      "Processing Record 23 of Set 10 | Bosaso\n",
      "Processing Record 24 of Set 10 | Maputo\n",
      "Processing Record 25 of Set 10 | Northam\n",
      "Processing Record 26 of Set 10 | Nizhniy\n",
      "Processing Record 27 of Set 10 | Ponnāni\n",
      "Processing Record 28 of Set 10 | Jambi City\n",
      "Processing Record 29 of Set 10 | Yulara\n",
      "Processing Record 30 of Set 10 | Ankazobe\n",
      "Processing Record 31 of Set 10 | Kathu\n",
      "Processing Record 32 of Set 10 | Tazmalt\n",
      "Processing Record 33 of Set 10 | Pedro\n",
      "Processing Record 34 of Set 10 | Kapoeta\n",
      "Processing Record 35 of Set 10 | Bukachacha\n",
      "Processing Record 36 of Set 10 | Caniço\n",
      "Processing Record 37 of Set 10 | Nizhniy\n",
      "Processing Record 38 of Set 10 | Kamaishi\n",
      "Processing Record 39 of Set 10 | Ambilobe\n",
      "Processing Record 40 of Set 10 | Bogotol\n",
      "Processing Record 41 of Set 10 | Sinnamary\n",
      "Processing Record 42 of Set 10 | Zhaotong\n",
      "Processing Record 43 of Set 10 | Port\n",
      "Processing Record 44 of Set 10 | Sompeta\n",
      "Processing Record 45 of Set 10 | Jiblah\n",
      "Processing Record 46 of Set 10 | Vanimo\n",
      "Processing Record 47 of Set 10 | Parrita\n",
      "Processing Record 48 of Set 10 | Coahuayana Viejo\n",
      "Processing Record 49 of Set 10 | Porto\n",
      "Processing Record 0 of Set 11 | Dubova\n",
      "Processing Record 1 of Set 11 | Natal\n",
      "Processing Record 2 of Set 11 | Tezu\n",
      "Processing Record 3 of Set 11 | Aquiraz\n",
      "Processing Record 4 of Set 11 | Nishihara\n",
      "Processing Record 5 of Set 11 | Florián\n",
      "Processing Record 6 of Set 11 | Caluquembe\n",
      "Processing Record 7 of Set 11 | Pimentel\n",
      "Processing Record 8 of Set 11 | Qiongshan\n",
      "Processing Record 9 of Set 11 | Filingué\n",
      "Processing Record 10 of Set 11 | Marsa\n",
      "Processing Record 11 of Set 11 | Vanavara\n",
      "Processing Record 12 of Set 11 | Jalu\n",
      "Processing Record 13 of Set 11 | Havelock\n",
      "Processing Record 14 of Set 11 | Valparaíso\n",
      "Processing Record 15 of Set 11 | Muhos\n",
      "Processing Record 16 of Set 11 | Petauke\n",
      "Processing Record 17 of Set 11 | Mitsamiouli\n",
      "Processing Record 18 of Set 11 | Grindavik\n",
      "Processing Record 19 of Set 11 | Haapiti\n",
      "Processing Record 20 of Set 11 | Poum\n",
      "City not found. Skipping...\n",
      "Processing Record 21 of Set 11 | Sechura\n",
      "Processing Record 22 of Set 11 | Izumo\n",
      "City not found. Skipping...\n",
      "City not found. Skipping...\n",
      "Processing Record 23 of Set 11 | Epe\n",
      "Processing Record 24 of Set 11 | Kinston\n",
      "Processing Record 25 of Set 11 | Ingham\n",
      "Processing Record 26 of Set 11 | Eqbālīyeh\n",
      "City not found. Skipping...\n",
      "Processing Record 27 of Set 11 | Rodrigues\n",
      "City not found. Skipping...\n",
      "Processing Record 28 of Set 11 | Fort\n",
      "Processing Record 29 of Set 11 | Sirte\n",
      "City not found. Skipping...\n",
      "Processing Record 30 of Set 11 | Nyaunglebin\n",
      "Processing Record 31 of Set 11 | Concepción\n",
      "Processing Record 32 of Set 11 | Umeå\n",
      "Processing Record 33 of Set 11 | Shitanjing\n",
      "Processing Record 34 of Set 11 | Mocuba\n",
      "Processing Record 35 of Set 11 | Bonoua\n",
      "Processing Record 36 of Set 11 | Srandakan\n",
      "Processing Record 37 of Set 11 | Talakan\n",
      "Processing Record 38 of Set 11 | Salinas\n",
      "Processing Record 39 of Set 11 | Campbellsville\n",
      "Processing Record 40 of Set 11 | Plettenberg\n",
      "Processing Record 41 of Set 11 | Kishtwār\n",
      "Processing Record 42 of Set 11 | Nastola\n",
      "Processing Record 43 of Set 11 | Guilin\n",
      "Processing Record 44 of Set 11 | Verkhoyansk\n",
      "City not found. Skipping...\n",
      "Processing Record 45 of Set 11 | Palmer\n",
      "Processing Record 46 of Set 11 | Ratnagiri\n",
      "City not found. Skipping...\n",
      "Data Retrieval Complete\n"
     ]
    }
   ],
   "source": [
    "#create emplty lits corressponding to required columns in df to hold response outputs\n",
    "#create new list for cities to hold only cities in original list with weather data to ensure length of arrays \n",
    "#for df are the same \n",
    "lat =[]\n",
    "lon = []\n",
    "max_temp=[]\n",
    "humidity=[]\n",
    "cloudiness=[]\n",
    "wind_speed=[]\n",
    "country=[]\n",
    "date=[]\n",
    "city_list =[]\n",
    "\n",
    "#define counters to handle API calls in order not to exceed max allowed \n",
    "record_retrieved = 0\n",
    "batch = 1\n",
    "\n",
    "# create for loop to perform weather check with API calls to city in cities list \n",
    "# break API calls into subsets of 50 with if statement\n",
    "# set time to sleep to 60s to ensure API calls do not exceed maximum allowed by openweather API per call\n",
    "# create try and except error handling for city in cities with no data \n",
    "for city in cities:\n",
    "    try:\n",
    "        response = requests.get(query_url + city.replace(\" \",\"&\")).json()\n",
    "        max_temp.append(response['main']['temp_max'])\n",
    "        lat.append(response['coord']['lat'])\n",
    "        lon.append(response['coord']['lon'])\n",
    "        humidity.append(response['main']['humidity'])\n",
    "        cloudiness.append(response['clouds']['all'])\n",
    "        wind_speed.append(response['wind']['speed'])\n",
    "        country.append(response['sys']['country'])\n",
    "        date.append(response['dt'])\n",
    "        city_list.append(response['name'])\n",
    "        if record_retrieved > 48:\n",
    "            record_retrieved = 0\n",
    "            batch += 1\n",
    "            time.sleep(60)\n",
    "        else:\n",
    "            record_retrieved += 1\n",
    "        print(f\"Processing Record {record_retrieved} of Set {batch} | {response['name']}\")\n",
    "    except Exception:\n",
    "        print(\"City not found. Skipping...\")\n",
    "print(\"Data Retrieval Complete\")"
   ]
  },
  {
   "cell_type": "markdown",
   "metadata": {},
   "source": [
    "### Convert Raw Data to DataFrame\n",
    "* Export the city data into a .csv.\n",
    "* Display the DataFrame"
   ]
  },
  {
   "cell_type": "code",
   "execution_count": 8,
   "metadata": {},
   "outputs": [
    {
     "name": "stdout",
     "output_type": "stream",
     "text": [
      "546\n",
      "546\n",
      "605\n"
     ]
    }
   ],
   "source": [
    "#inspect lenght of outputs and compare with original cities list \n",
    "print(len(max_temp))\n",
    "print(len(city_list))\n",
    "print(len(cities))"
   ]
  },
  {
   "cell_type": "code",
   "execution_count": 9,
   "metadata": {},
   "outputs": [
    {
     "data": {
      "text/html": [
       "<div>\n",
       "<style scoped>\n",
       "    .dataframe tbody tr th:only-of-type {\n",
       "        vertical-align: middle;\n",
       "    }\n",
       "\n",
       "    .dataframe tbody tr th {\n",
       "        vertical-align: top;\n",
       "    }\n",
       "\n",
       "    .dataframe thead th {\n",
       "        text-align: right;\n",
       "    }\n",
       "</style>\n",
       "<table border=\"1\" class=\"dataframe\">\n",
       "  <thead>\n",
       "    <tr style=\"text-align: right;\">\n",
       "      <th></th>\n",
       "      <th>City</th>\n",
       "      <th>Lat</th>\n",
       "      <th>Lng</th>\n",
       "      <th>Max Temp</th>\n",
       "      <th>Humidity</th>\n",
       "      <th>Cloudiness</th>\n",
       "      <th>Wind Speed</th>\n",
       "      <th>Country</th>\n",
       "      <th>Date</th>\n",
       "    </tr>\n",
       "  </thead>\n",
       "  <tbody>\n",
       "    <tr>\n",
       "      <th>0</th>\n",
       "      <td>Airai</td>\n",
       "      <td>-8.93</td>\n",
       "      <td>125.41</td>\n",
       "      <td>57.36</td>\n",
       "      <td>100</td>\n",
       "      <td>98</td>\n",
       "      <td>4.43</td>\n",
       "      <td>TL</td>\n",
       "      <td>1592332284</td>\n",
       "    </tr>\n",
       "    <tr>\n",
       "      <th>1</th>\n",
       "      <td>Tasiilaq</td>\n",
       "      <td>65.61</td>\n",
       "      <td>-37.64</td>\n",
       "      <td>35.60</td>\n",
       "      <td>92</td>\n",
       "      <td>75</td>\n",
       "      <td>18.34</td>\n",
       "      <td>GL</td>\n",
       "      <td>1592332284</td>\n",
       "    </tr>\n",
       "    <tr>\n",
       "      <th>2</th>\n",
       "      <td>Bredasdorp</td>\n",
       "      <td>-34.53</td>\n",
       "      <td>20.04</td>\n",
       "      <td>53.60</td>\n",
       "      <td>93</td>\n",
       "      <td>0</td>\n",
       "      <td>3.51</td>\n",
       "      <td>ZA</td>\n",
       "      <td>1592332284</td>\n",
       "    </tr>\n",
       "    <tr>\n",
       "      <th>3</th>\n",
       "      <td>Westport</td>\n",
       "      <td>41.14</td>\n",
       "      <td>-73.36</td>\n",
       "      <td>73.00</td>\n",
       "      <td>49</td>\n",
       "      <td>1</td>\n",
       "      <td>12.75</td>\n",
       "      <td>US</td>\n",
       "      <td>1592332284</td>\n",
       "    </tr>\n",
       "    <tr>\n",
       "      <th>4</th>\n",
       "      <td>Mossamedes</td>\n",
       "      <td>-15.20</td>\n",
       "      <td>12.15</td>\n",
       "      <td>72.48</td>\n",
       "      <td>62</td>\n",
       "      <td>0</td>\n",
       "      <td>3.56</td>\n",
       "      <td>AO</td>\n",
       "      <td>1592332285</td>\n",
       "    </tr>\n",
       "  </tbody>\n",
       "</table>\n",
       "</div>"
      ],
      "text/plain": [
       "         City    Lat     Lng  Max Temp  Humidity  Cloudiness  Wind Speed  \\\n",
       "0       Airai  -8.93  125.41     57.36       100          98        4.43   \n",
       "1    Tasiilaq  65.61  -37.64     35.60        92          75       18.34   \n",
       "2  Bredasdorp -34.53   20.04     53.60        93           0        3.51   \n",
       "3    Westport  41.14  -73.36     73.00        49           1       12.75   \n",
       "4  Mossamedes -15.20   12.15     72.48        62           0        3.56   \n",
       "\n",
       "  Country        Date  \n",
       "0      TL  1592332284  \n",
       "1      GL  1592332284  \n",
       "2      ZA  1592332284  \n",
       "3      US  1592332284  \n",
       "4      AO  1592332285  "
      ]
     },
     "execution_count": 9,
     "metadata": {},
     "output_type": "execute_result"
    }
   ],
   "source": [
    "#convert raw data into df\n",
    "weatherpy_df = pd.DataFrame({\"City\":city_list,\"Lat\": lat,\"Lng\": lon,\"Max Temp\":max_temp,\"Humidity\":humidity,\n",
    "                             \"Cloudiness\":cloudiness,\"Wind Speed\":wind_speed,\"Country\":country,\"Date\":date})\n",
    "weatherpy_df.head()"
   ]
  },
  {
   "cell_type": "code",
   "execution_count": 11,
   "metadata": {},
   "outputs": [],
   "source": [
    "#export data into csv\n",
    "weatherpy_df.to_csv('output_data/wetherpy.csv', encoding=\"utf-8\", index=False)"
   ]
  },
  {
   "cell_type": "code",
   "execution_count": 12,
   "metadata": {},
   "outputs": [
    {
     "data": {
      "text/plain": [
       "City          546\n",
       "Lat           546\n",
       "Lng           546\n",
       "Max Temp      546\n",
       "Humidity      546\n",
       "Cloudiness    546\n",
       "Wind Speed    546\n",
       "Country       546\n",
       "Date          546\n",
       "dtype: int64"
      ]
     },
     "execution_count": 12,
     "metadata": {},
     "output_type": "execute_result"
    }
   ],
   "source": [
    "weatherpy_df.count()"
   ]
  },
  {
   "cell_type": "code",
   "execution_count": 13,
   "metadata": {},
   "outputs": [
    {
     "data": {
      "text/plain": [
       "City          0\n",
       "Lat           0\n",
       "Lng           0\n",
       "Max Temp      0\n",
       "Humidity      0\n",
       "Cloudiness    0\n",
       "Wind Speed    0\n",
       "Country       0\n",
       "Date          0\n",
       "dtype: int64"
      ]
     },
     "execution_count": 13,
     "metadata": {},
     "output_type": "execute_result"
    }
   ],
   "source": [
    "#check for rows with missing values or NaN\n",
    "weatherpy_df.isnull().sum()"
   ]
  },
  {
   "cell_type": "markdown",
   "metadata": {},
   "source": [
    "## Inspect the data and remove the cities where the humidity > 100%.\n",
    "----\n",
    "Skip this step if there are no cities that have humidity > 100%. "
   ]
  },
  {
   "cell_type": "code",
   "execution_count": 14,
   "metadata": {},
   "outputs": [
    {
     "data": {
      "text/plain": [
       "0"
      ]
     },
     "execution_count": 14,
     "metadata": {},
     "output_type": "execute_result"
    }
   ],
   "source": [
    "#check for cities with high humidity >100%\n",
    "Highhumidity = len(weatherpy_df.loc[weatherpy_df[\"Humidity\"] >100])\n",
    "Highhumidity"
   ]
  },
  {
   "cell_type": "code",
   "execution_count": 15,
   "metadata": {},
   "outputs": [],
   "source": [
    "#  Get the indices of cities that have humidity over 100%.\n"
   ]
  },
  {
   "cell_type": "code",
   "execution_count": 16,
   "metadata": {},
   "outputs": [],
   "source": [
    "# Make a new DataFrame equal to the city data to drop all humidity outliers by index.\n",
    "# Passing \"inplace=False\" will make a copy of the city_data DataFrame, which we call \"clean_city_data\".\n"
   ]
  },
  {
   "cell_type": "code",
   "execution_count": 17,
   "metadata": {},
   "outputs": [],
   "source": [
    "# Extract relevant fields from the data frame\n",
    "\n",
    "\n",
    "# Export the City_Data into a csv\n"
   ]
  },
  {
   "cell_type": "markdown",
   "metadata": {},
   "source": [
    "## Plotting the Data\n",
    "* Use proper labeling of the plots using plot titles (including date of analysis) and axes labels.\n",
    "* Save the plotted figures as .pngs."
   ]
  },
  {
   "cell_type": "markdown",
   "metadata": {},
   "source": [
    "## Latitude vs. Temperature Plot"
   ]
  },
  {
   "cell_type": "code",
   "execution_count": 18,
   "metadata": {
    "scrolled": true
   },
   "outputs": [
    {
     "data": {
      "text/plain": [
       "<function matplotlib.pyplot.show(*args, **kw)>"
      ]
     },
     "execution_count": 18,
     "metadata": {},
     "output_type": "execute_result"
    },
    {
     "data": {
      "image/png": "[encoded data removed]",
      "text/plain": [
       "<Figure size 432x288 with 1 Axes>"
      ]
     },
     "metadata": {
      "needs_background": "light"
     },
     "output_type": "display_data"
    }
   ],
   "source": [
    "#Define x and y variables for scatter plot\n",
    "x_values = weatherpy_df[\"Lat\"]\n",
    "y_values = weatherpy_df[\"Max Temp\"]\n",
    "plt.scatter(x_values,y_values)\n",
    "# Plot title and labels \n",
    "plt.xlabel(\"Latitude\")\n",
    "plt.ylabel(\"Max Temperature(F)\")\n",
    "plt.title(\"City Latitude vs Max Temperature (06/16/20)\")\n",
    "#Save and show plot\n",
    "plt.savefig(\"Images/Lat_Vs_Temp.png\")\n",
    "plt.show"
   ]
  },
  {
   "cell_type": "code",
   "execution_count": 19,
   "metadata": {},
   "outputs": [],
   "source": [
    "#The relationship between latitude and Temperature is strong, linear, and positive in the southern hemisphere but\n",
    "#negative in the northen hemisphere. This is a symetric scatter plot with positive slope in the first half and \n",
    "#negative slope in the second half. The slope of the entire plot is zero. "
   ]
  },
  {
   "cell_type": "markdown",
   "metadata": {},
   "source": [
    "## Latitude vs. Humidity Plot"
   ]
  },
  {
   "cell_type": "code",
   "execution_count": 20,
   "metadata": {},
   "outputs": [
    {
     "data": {
      "text/plain": [
       "<function matplotlib.pyplot.show(*args, **kw)>"
      ]
     },
     "execution_count": 20,
     "metadata": {},
     "output_type": "execute_result"
    },
    {
     "data": {
      "image/png": "[encoded data removed]",
      "text/plain": [
       "<Figure size 432x288 with 1 Axes>"
      ]
     },
     "metadata": {
      "needs_background": "light"
     },
     "output_type": "display_data"
    }
   ],
   "source": [
    "#Define x and y variables for scatter plot\n",
    "x_values = weatherpy_df[\"Lat\"]\n",
    "y_values = weatherpy_df[\"Humidity\"]\n",
    "plt.scatter(x_values,y_values)\n",
    "# Plot title and labels\n",
    "plt.xlabel(\"Latitude\")\n",
    "plt.ylabel(\"Humidity (%)\")\n",
    "plt.title(\"City Latitude vs Humidity (06/16/20)\")\n",
    "#Save and show plot\n",
    "plt.savefig(\"Images/Lat_Vs_Hum.png\")\n",
    "plt.show"
   ]
  },
  {
   "cell_type": "code",
   "execution_count": 21,
   "metadata": {},
   "outputs": [],
   "source": [
    "#The relationship between latitude and humidity is non-linear,weak with zero slope "
   ]
  },
  {
   "cell_type": "markdown",
   "metadata": {},
   "source": [
    "## Latitude vs. Cloudiness Plot"
   ]
  },
  {
   "cell_type": "code",
   "execution_count": 22,
   "metadata": {},
   "outputs": [
    {
     "data": {
      "text/plain": [
       "<function matplotlib.pyplot.show(*args, **kw)>"
      ]
     },
     "execution_count": 22,
     "metadata": {},
     "output_type": "execute_result"
    },
    {
     "data": {
      "image/png": "[encoded data removed]",
      "text/plain": [
       "<Figure size 432x288 with 1 Axes>"
      ]
     },
     "metadata": {
      "needs_background": "light"
     },
     "output_type": "display_data"
    }
   ],
   "source": [
    "#Define x and y variables for scatter plot\n",
    "x_values = weatherpy_df[\"Lat\"]\n",
    "y_values = weatherpy_df[\"Cloudiness\"]\n",
    "plt.scatter(x_values,y_values)\n",
    "# Plot title and labels\n",
    "plt.xlabel(\"Latitude\")\n",
    "plt.ylabel(\"Cloudiness (%)\")\n",
    "plt.title(\"City Latitude vs Cloudiness (06/16/20)\")\n",
    "#Save and show plot\n",
    "plt.savefig(\"Images/Lat_Vs_Cloudiness.png\")\n",
    "plt.show"
   ]
  },
  {
   "cell_type": "code",
   "execution_count": 23,
   "metadata": {},
   "outputs": [],
   "source": [
    "##The relationship between latitude and cloudiness is non-linear,weak with zero slope "
   ]
  },
  {
   "cell_type": "markdown",
   "metadata": {},
   "source": [
    "## Latitude vs. Wind Speed Plot"
   ]
  },
  {
   "cell_type": "code",
   "execution_count": 24,
   "metadata": {},
   "outputs": [
    {
     "data": {
      "text/plain": [
       "<function matplotlib.pyplot.show(*args, **kw)>"
      ]
     },
     "execution_count": 24,
     "metadata": {},
     "output_type": "execute_result"
    },
    {
     "data": {
      "image/png": "[encoded data removed]",
      "text/plain": [
       "<Figure size 432x288 with 1 Axes>"
      ]
     },
     "metadata": {
      "needs_background": "light"
     },
     "output_type": "display_data"
    }
   ],
   "source": [
    "#Define x and y variables for scatter plot\n",
    "x_values = weatherpy_df[\"Lat\"]\n",
    "y_values = weatherpy_df[\"Wind Speed\"]\n",
    "plt.scatter(x_values,y_values)\n",
    "# plot title and labels \n",
    "plt.xlabel(\"Latitude\")\n",
    "plt.ylabel(\"Wind Speed (mph)\")\n",
    "plt.title(\"City Latitude vs Wind Speed (06/16/20)\")\n",
    "#Save and show plot\n",
    "plt.savefig(\"Images/Lat_Vs_Windspeed.png\")\n",
    "plt.show"
   ]
  },
  {
   "cell_type": "code",
   "execution_count": 25,
   "metadata": {},
   "outputs": [],
   "source": [
    "##The relationship between latitude and wind speed is non-linear,weak with zero slope "
   ]
  },
  {
   "cell_type": "markdown",
   "metadata": {},
   "source": [
    "## Linear Regression"
   ]
  },
  {
   "cell_type": "code",
   "execution_count": 26,
   "metadata": {},
   "outputs": [],
   "source": [
    "# OPTIONAL: Create a function to create Linear Regression plots\n",
    "def f_regression(x_values,y_values,i,j):\n",
    "    (slope, intercept, rvalue, pvalue, stderr) = linregress(x_values, y_values)\n",
    "    regress_values = x_values * slope + intercept\n",
    "    line_eq = \"y = \" + str(round(slope,2)) + \"x + \" + str(round(intercept,2))\n",
    "    a= plt.scatter(x_values,y_values)\n",
    "    b= plt.plot(x_values,regress_values,\"r-\")\n",
    "    c= print(f\"The r-squared is: {rvalue**2}\")\n",
    "    d= plt.annotate(line_eq, (i,j),fontsize=15,color=\"red\")\n",
    "    return (a,b,c,d)"
   ]
  },
  {
   "cell_type": "code",
   "execution_count": 27,
   "metadata": {},
   "outputs": [],
   "source": [
    "#filter and craete northern hemisphere df\n",
    "NorthHemi_df = weatherpy_df.loc[weatherpy_df[\"Lat\"] >= 0]\n",
    "#NorthernHemi_df"
   ]
  },
  {
   "cell_type": "code",
   "execution_count": 28,
   "metadata": {},
   "outputs": [],
   "source": [
    "#filter and craete southern hemisphere df\n",
    "SouthHemi_df = weatherpy_df.loc[weatherpy_df[\"Lat\"] < 0]\n",
    "#SouthHemi_df"
   ]
  },
  {
   "cell_type": "markdown",
   "metadata": {},
   "source": [
    "####  Northern Hemisphere - Max Temp vs. Latitude Linear Regression"
   ]
  },
  {
   "cell_type": "code",
   "execution_count": 29,
   "metadata": {},
   "outputs": [
    {
     "name": "stdout",
     "output_type": "stream",
     "text": [
      "The r-squared is: 0.5696749294130483\n"
     ]
    },
    {
     "data": {
      "image/png": "[encoded data removed]",
      "text/plain": [
       "<Figure size 432x288 with 1 Axes>"
      ]
     },
     "metadata": {
      "needs_background": "light"
     },
     "output_type": "display_data"
    }
   ],
   "source": [
    "#NH Cities- Maximum Temp Vs Latitude \n",
    "f_regression(NorthHemi_df[\"Lat\"], NorthHemi_df[\"Max Temp\"],10,35)\n",
    "plt.xlabel(\"Latitude\")\n",
    "plt.ylabel(\"Max Temp\")\n",
    "plt.title(\"NH - City Latitude vs Max Temp (06/16/20)\")\n",
    "plt.savefig(\"Images/NH_Lat_Vs_MaxTemp.png\")"
   ]
  },
  {
   "cell_type": "code",
   "execution_count": 30,
   "metadata": {},
   "outputs": [],
   "source": [
    "#Inferences from Northern Hemisphere(NH) Max Temp vs Latitude regression:\n",
    "#Negtive correlation between the 2 variables \n",
    "#Approximately 55% of the changes in Temperature in the NH is attributed to latitude with R-Square value of 0.57"
   ]
  },
  {
   "cell_type": "markdown",
   "metadata": {},
   "source": [
    "####  Southern Hemisphere - Max Temp vs. Latitude Linear Regression"
   ]
  },
  {
   "cell_type": "code",
   "execution_count": 34,
   "metadata": {},
   "outputs": [
    {
     "name": "stdout",
     "output_type": "stream",
     "text": [
      "The r-squared is: 0.536340785528179\n"
     ]
    },
    {
     "data": {
      "image/png": "[encoded data removed]",
      "text/plain": [
       "<Figure size 432x288 with 1 Axes>"
      ]
     },
     "metadata": {
      "needs_background": "light"
     },
     "output_type": "display_data"
    }
   ],
   "source": [
    "#SH Cities- Maximum Temp Vs Latitude\n",
    "f_regression(SouthHemi_df[\"Lat\"], SouthHemi_df[\"Max Temp\"],-50,80)\n",
    "plt.xlabel(\"Latitude\")\n",
    "plt.ylabel(\"Max Temp\")\n",
    "plt.title(\"SH - City Latitude vs Max Temp (06/16/20)\")\n",
    "plt.savefig(\"Images/SH_Lat_Vs_MaxTemp.png\")"
   ]
  },
  {
   "cell_type": "code",
   "execution_count": 35,
   "metadata": {},
   "outputs": [],
   "source": [
    "#Inferences from Southern Hemisphere(SH) Max Temp vs Latitude regression:\n",
    "#Positive correlation between the 2 variables with temp increasing as you move closer to the equator \n",
    "#Approximately 54% of the changes in Temperature in the SH is attributed to latitude with R-Square value of 0.54"
   ]
  },
  {
   "cell_type": "markdown",
   "metadata": {},
   "source": [
    "####  Northern Hemisphere - Humidity (%) vs. Latitude Linear Regression"
   ]
  },
  {
   "cell_type": "code",
   "execution_count": 36,
   "metadata": {},
   "outputs": [
    {
     "name": "stdout",
     "output_type": "stream",
     "text": [
      "The r-squared is: 0.0008598118779437856\n"
     ]
    },
    {
     "data": {
      "image/png": "[encoded data removed]",
      "text/plain": [
       "<Figure size 432x288 with 1 Axes>"
      ]
     },
     "metadata": {
      "needs_background": "light"
     },
     "output_type": "display_data"
    }
   ],
   "source": [
    "#NH Cities- Humidity Vs Latitude \n",
    "f_regression(NorthHemi_df[\"Lat\"], NorthHemi_df[\"Humidity\"],42,5)\n",
    "plt.xlabel(\"Latitude\")\n",
    "plt.ylabel(\"Humidity (%)\")\n",
    "plt.title(\"NH - City Latitude vs Humidity (%) (06/16/20)\")\n",
    "plt.savefig(\"Images/NH_Lat_Vs_Humidity.png\")"
   ]
  },
  {
   "cell_type": "code",
   "execution_count": 37,
   "metadata": {},
   "outputs": [],
   "source": [
    "#Inferences from Northern Hemisphere(NH) Humidity vs Latitude regression:\n",
    "#Little or no correlation between the 2 variables\n",
    "#The effect of latitude on humidity is statistically insigficant as shown by R-Square value of less than 1%"
   ]
  },
  {
   "cell_type": "markdown",
   "metadata": {},
   "source": [
    "####  Southern Hemisphere - Humidity (%) vs. Latitude Linear Regression"
   ]
  },
  {
   "cell_type": "code",
   "execution_count": 38,
   "metadata": {},
   "outputs": [
    {
     "name": "stdout",
     "output_type": "stream",
     "text": [
      "The r-squared is: 0.0002101684073644244\n"
     ]
    },
    {
     "data": {
      "image/png": "[encoded data removed]",
      "text/plain": [
       "<Figure size 432x288 with 1 Axes>"
      ]
     },
     "metadata": {
      "needs_background": "light"
     },
     "output_type": "display_data"
    }
   ],
   "source": [
    "#SH Cities- Humidity Vs Latitude \n",
    "f_regression(SouthHemi_df[\"Lat\"], SouthHemi_df[\"Humidity\"],-50,10)\n",
    "plt.xlabel(\"Latitude\")\n",
    "plt.ylabel(\"Humidity\")\n",
    "plt.title(\"SH - City Latitude vs Humidity(%) (06/16/20)\")\n",
    "plt.savefig(\"Images/SH_Lat_Vs_Humidity.png\")"
   ]
  },
  {
   "cell_type": "code",
   "execution_count": 39,
   "metadata": {},
   "outputs": [],
   "source": [
    "#Inferences from Southern Hemisphere(SH) Humidity vs Latitude regression:\n",
    "#Little or no correlation between the 2 variables\n",
    "#The effect of latitude on humidity is statistically insigficant as shown by R-Square value of less than 1%"
   ]
  },
  {
   "cell_type": "markdown",
   "metadata": {},
   "source": [
    "####  Northern Hemisphere - Cloudiness (%) vs. Latitude Linear Regression"
   ]
  },
  {
   "cell_type": "code",
   "execution_count": 40,
   "metadata": {},
   "outputs": [
    {
     "name": "stdout",
     "output_type": "stream",
     "text": [
      "The r-squared is: 0.0016330459894740483\n"
     ]
    },
    {
     "data": {
      "image/png": "[encoded data removed]",
      "text/plain": [
       "<Figure size 432x288 with 1 Axes>"
      ]
     },
     "metadata": {
      "needs_background": "light"
     },
     "output_type": "display_data"
    }
   ],
   "source": [
    "#NH Cities- Cloudiness Vs Latitude \n",
    "f_regression(NorthHemi_df[\"Lat\"], NorthHemi_df[\"Cloudiness\"],0,25)\n",
    "plt.xlabel(\"Latitude\")\n",
    "plt.ylabel(\"Cloudiness (%)\")\n",
    "plt.title(\"NH - City Latitude vs Cloudiness (%) (06/16/20)\")\n",
    "plt.savefig(\"Images/NH_Lat_Vs_Cloudiness.png\")"
   ]
  },
  {
   "cell_type": "code",
   "execution_count": 41,
   "metadata": {},
   "outputs": [],
   "source": [
    "#Inferences from Northern Hemisphere(NH) Cloudiness vs Latitude regression:\n",
    "#Little or no correlation between the 2 variables\n",
    "#The effect of latitude on Cloudiness is statistically insigficant as shown by R-Square value of less than 1%"
   ]
  },
  {
   "cell_type": "markdown",
   "metadata": {},
   "source": [
    "####  Southern Hemisphere - Cloudiness (%) vs. Latitude Linear Regression"
   ]
  },
  {
   "cell_type": "code",
   "execution_count": 42,
   "metadata": {},
   "outputs": [
    {
     "name": "stdout",
     "output_type": "stream",
     "text": [
      "The r-squared is: 0.004096806406158668\n"
     ]
    },
    {
     "data": {
      "image/png": "[encoded data removed]",
      "text/plain": [
       "<Figure size 432x288 with 1 Axes>"
      ]
     },
     "metadata": {
      "needs_background": "light"
     },
     "output_type": "display_data"
    }
   ],
   "source": [
    "#SH Cities- Cloudiness Vs Latitude \n",
    "f_regression(SouthHemi_df[\"Lat\"], SouthHemi_df[\"Cloudiness\"],-55,50)\n",
    "plt.xlabel(\"Latitude\")\n",
    "plt.ylabel(\"Cloudiness\")\n",
    "plt.title(\"SH - City Latitude vs Cloudiness(%) (06/16/20)\")\n",
    "plt.savefig(\"Images/SH_Lat_Vs_Cloudiness.png\")"
   ]
  },
  {
   "cell_type": "code",
   "execution_count": 43,
   "metadata": {},
   "outputs": [],
   "source": [
    "#Inferences from Southern Hemisphere(SH) Cloudiness vs Latitude regression:\n",
    "#Little or no correlation between the 2 variables\n",
    "#The effect of latitude on Cloudiness is statistically insigficant as shown by R-Square value of less than 1%"
   ]
  },
  {
   "cell_type": "markdown",
   "metadata": {},
   "source": [
    "####  Northern Hemisphere - Wind Speed (mph) vs. Latitude Linear Regression"
   ]
  },
  {
   "cell_type": "code",
   "execution_count": 45,
   "metadata": {},
   "outputs": [
    {
     "name": "stdout",
     "output_type": "stream",
     "text": [
      "The r-squared is: 0.006032452089373127\n"
     ]
    },
    {
     "data": {
      "image/png": "[encoded data removed]",
      "text/plain": [
       "<Figure size 432x288 with 1 Axes>"
      ]
     },
     "metadata": {
      "needs_background": "light"
     },
     "output_type": "display_data"
    }
   ],
   "source": [
    "#NH Cities- Wind Speed Vs Latitude\n",
    "f_regression(NorthHemi_df[\"Lat\"], NorthHemi_df[\"Wind Speed\"],0,25)\n",
    "plt.xlabel(\"Latitude\")\n",
    "plt.ylabel(\"Wind Speed (mph)\")\n",
    "plt.title(\"NH - City Latitude vs Wind Speed (mph) (06/16/20)\")\n",
    "plt.savefig(\"Images/NH_Lat_Vs_WindSpeed.png\")"
   ]
  },
  {
   "cell_type": "code",
   "execution_count": 46,
   "metadata": {},
   "outputs": [],
   "source": [
    "#Inferences from Northern Hemisphere(NH) Wind Speed vs Latitude regression:\n",
    "#Little or no correlation between the 2 variables\n",
    "#The effect of latitude on Wind Speed is statistically insigficant as shown by R-Square value of less than 1%"
   ]
  },
  {
   "cell_type": "markdown",
   "metadata": {},
   "source": [
    "####  Southern Hemisphere - Wind Speed (mph) vs. Latitude Linear Regression"
   ]
  },
  {
   "cell_type": "code",
   "execution_count": 49,
   "metadata": {},
   "outputs": [
    {
     "name": "stdout",
     "output_type": "stream",
     "text": [
      "The r-squared is: 0.046727695116181245\n"
     ]
    },
    {
     "data": {
      "image/png": "[encoded data removed]",
      "text/plain": [
       "<Figure size 432x288 with 1 Axes>"
      ]
     },
     "metadata": {
      "needs_background": "light"
     },
     "output_type": "display_data"
    }
   ],
   "source": [
    "#SH Cities- Wind Speed Vs Latitude \n",
    "f_regression(SouthHemi_df[\"Lat\"], SouthHemi_df[\"Wind Speed\"],-50,19)\n",
    "plt.xlabel(\"Latitude\")\n",
    "plt.ylabel(\"Wind Speed\")\n",
    "plt.title(\"SH - City Latitude vs Wind Speed(mph) (06/16/20)\")\n",
    "plt.savefig(\"Images/SH_Lat_Vs_WindSpeed.png\")"
   ]
  },
  {
   "cell_type": "code",
   "execution_count": null,
   "metadata": {},
   "outputs": [],
   "source": [
    "#Inferences from Southern Hemisphere(SH) Wind Speed vs Latitude regression:\n",
    "#Little or no correlation between the 2 variables\n",
    "#The effect of latitude on Wind Speed is statistically insigficant as shown by R-Square value of less than 1%"
   ]
  }
 ],
 "metadata": {
  "anaconda-cloud": {},
  "kernel_info": {
   "name": "python3"
  },
  "kernelspec": {
   "display_name": "Python [conda env:PythonData] *",
   "language": "python",
   "name": "conda-env-PythonData-py"
  },
  "language_info": {
   "codemirror_mode": {
    "name": "ipython",
    "version": 3
   },
   "file_extension": ".py",
   "mimetype": "text/x-python",
   "name": "python",
   "nbconvert_exporter": "python",
   "pygments_lexer": "ipython3",
   "version": "3.8.2"
  },
  "latex_envs": {
   "LaTeX_envs_menu_present": true,
   "autoclose": false,
   "autocomplete": true,
   "bibliofile": "biblio.bib",
   "cite_by": "apalike",
   "current_citInitial": 1,
   "eqLabelWithNumbers": true,
   "eqNumInitial": 1,
   "hotkeys": {
    "equation": "Ctrl-E",
    "itemize": "Ctrl-I"
   },
   "labels_anchors": false,
   "latex_user_defs": false,
   "report_style_numbering": false,
   "user_envs_cfg": false
  },
  "nteract": {
   "version": "0.12.3"
  }
 },
 "nbformat": 4,
 "nbformat_minor": 2
}
